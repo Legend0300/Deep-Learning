{
 "cells": [
  {
   "cell_type": "code",
   "execution_count": 3,
   "id": "77aacda4-3e31-4a7b-8d5b-b6c3858e66ee",
   "metadata": {},
   "outputs": [
    {
     "name": "stdout",
     "output_type": "stream",
     "text": [
      "CUDA is not enabled in TensorFlow.\n"
     ]
    }
   ],
   "source": [
    "import tensorflow as tf\n",
    "\n",
    "if tf.test.is_built_with_cuda():\n",
    "    print(\"CUDA is enabled in TensorFlow.\")\n",
    "else:\n",
    "    print(\"CUDA is not enabled in TensorFlow.\")\n"
   ]
  },
  {
   "cell_type": "code",
   "execution_count": 4,
   "id": "6f7a38cd-473f-42d0-b4d2-c24997e71fcb",
   "metadata": {},
   "outputs": [],
   "source": [
    "import pandas as pd\n",
    "import tensorflow as tf\n",
    "import numpy as np"
   ]
  },
  {
   "cell_type": "code",
   "execution_count": 5,
   "id": "2e737b0d-6c0c-43b9-9b35-5b79bbe717aa",
   "metadata": {},
   "outputs": [
    {
     "data": {
      "text/html": [
       "<div>\n",
       "<style scoped>\n",
       "    .dataframe tbody tr th:only-of-type {\n",
       "        vertical-align: middle;\n",
       "    }\n",
       "\n",
       "    .dataframe tbody tr th {\n",
       "        vertical-align: top;\n",
       "    }\n",
       "\n",
       "    .dataframe thead th {\n",
       "        text-align: right;\n",
       "    }\n",
       "</style>\n",
       "<table border=\"1\" class=\"dataframe\">\n",
       "  <thead>\n",
       "    <tr style=\"text-align: right;\">\n",
       "      <th></th>\n",
       "      <th>text</th>\n",
       "      <th>label</th>\n",
       "    </tr>\n",
       "  </thead>\n",
       "  <tbody>\n",
       "    <tr>\n",
       "      <th>0</th>\n",
       "      <td>rt @user olha quem chegouuuuu, nossos queridin...</td>\n",
       "      <td>0</td>\n",
       "    </tr>\n",
       "    <tr>\n",
       "      <th>1</th>\n",
       "      <td>veio umas teorias muito loucas na minha cabeça...</td>\n",
       "      <td>1</td>\n",
       "    </tr>\n",
       "    <tr>\n",
       "      <th>2</th>\n",
       "      <td>@user @user 😂😂😂😂mais nao tinha falado ontem qu...</td>\n",
       "      <td>0</td>\n",
       "    </tr>\n",
       "    <tr>\n",
       "      <th>3</th>\n",
       "      <td>rt @user quer ser filha da puta logo comigo qu...</td>\n",
       "      <td>1</td>\n",
       "    </tr>\n",
       "    <tr>\n",
       "      <th>4</th>\n",
       "      <td>vai besta 😂😂😂😂 casquei com a ultima foto</td>\n",
       "      <td>1</td>\n",
       "    </tr>\n",
       "  </tbody>\n",
       "</table>\n",
       "</div>"
      ],
      "text/plain": [
       "                                                text  label\n",
       "0  rt @user olha quem chegouuuuu, nossos queridin...      0\n",
       "1  veio umas teorias muito loucas na minha cabeça...      1\n",
       "2  @user @user 😂😂😂😂mais nao tinha falado ontem qu...      0\n",
       "3  rt @user quer ser filha da puta logo comigo qu...      1\n",
       "4           vai besta 😂😂😂😂 casquei com a ultima foto      1"
      ]
     },
     "execution_count": 5,
     "metadata": {},
     "output_type": "execute_result"
    }
   ],
   "source": [
    "df = pd.read_csv(r'C:\\Users\\Legend\\Downloads\\train.csv')\n",
    "df.head()"
   ]
  },
  {
   "cell_type": "code",
   "execution_count": 6,
   "id": "4a8bbce6-b27d-4a5e-ad57-bd1a6ba96737",
   "metadata": {},
   "outputs": [],
   "source": [
    "# prompt: make a regex that removes all non alphabet characters and numbers and makes them lower case as well and then rename the dataset with the same name\n",
    "\n",
    "import re\n",
    "\n",
    "# Remove all non-alphabet characters and numbers, and convert to lowercase\n",
    "df['text'] = df['text'].apply(lambda x: re.sub(r'[^a-zA-Z0-9]', ' ', x).lower())\n",
    "\n",
    "# Rename the dataset with the same name\n",
    "df = df.rename(columns={'text': 'text'})"
   ]
  },
  {
   "cell_type": "code",
   "execution_count": 7,
   "id": "77390adf-2999-4785-95ba-f8c76f5ef695",
   "metadata": {},
   "outputs": [],
   "source": [
    "# prompt: tokensize the text and then add padding of the max length\n",
    "\n",
    "# Tokenize the text column\n",
    "from tensorflow.keras.preprocessing.text import Tokenizer\n",
    "tokenizer = Tokenizer(num_words=10000)\n",
    "tokenizer.fit_on_texts(df['text'])\n",
    "\n",
    "# Convert the text to sequences of tokens\n",
    "sequences = tokenizer.texts_to_sequences(df['text'])\n",
    "\n",
    "# Pad the sequences to the same length\n",
    "from tensorflow.keras.preprocessing.sequence import pad_sequences\n",
    "maxlen = max([len(seq) for seq in sequences])\n",
    "padded_sequences = pad_sequences(sequences, maxlen=maxlen)\n"
   ]
  },
  {
   "cell_type": "code",
   "execution_count": 8,
   "id": "3aaf5ae3-a610-4d32-bb64-973eafbbefa4",
   "metadata": {},
   "outputs": [
    {
     "data": {
      "text/plain": [
       "(16800, 66)"
      ]
     },
     "execution_count": 8,
     "metadata": {},
     "output_type": "execute_result"
    }
   ],
   "source": [
    "padded_sequences.shape"
   ]
  },
  {
   "cell_type": "code",
   "execution_count": null,
   "id": "f3789e73-2511-434e-b937-67223657e3a1",
   "metadata": {},
   "outputs": [],
   "source": [
    "# prompt: make an embedding layer at the start and then an BiDirectional LSTM layer and then finnaly a linear layer for binary classification \n",
    "\n",
    "# Create the model\n",
    "model = tf.keras.Sequential([\n",
    "  tf.keras.layers.Embedding(10000,66),  # Embedding layer\n",
    "  tf.keras.layers.Bidirectional(tf.keras.layers.LSTM(128)),  # BiDirectional LSTM layer\n",
    "  tf.keras.layers.Dense(1, activation='sigmoid')  # Linear layer for binary classification\n",
    "])\n",
    "\n",
    "# Compile the model\n",
    "model.compile(loss='binary_crossentropy', optimizer='adam', metrics=['accuracy'])\n",
    "\n",
    "# Train the model\n",
    "model.fit(padded_sequences, df['label'], epochs=15, validation_split=0.2)"
   ]
  },
  {
   "cell_type": "code",
   "execution_count": 10,
   "id": "05606cba-0640-41d4-9fc5-6c89e4f2f66d",
   "metadata": {},
   "outputs": [
    {
     "name": "stdout",
     "output_type": "stream",
     "text": [
      "\u001b[1m525/525\u001b[0m \u001b[32m━━━━━━━━━━━━━━━━━━━━\u001b[0m\u001b[37m\u001b[0m \u001b[1m8s\u001b[0m 14ms/step - accuracy: 0.9795 - loss: 0.0732\n",
      "Test Accuracy: 0.9261309504508972\n",
      "\u001b[1m1/1\u001b[0m \u001b[32m━━━━━━━━━━━━━━━━━━━━\u001b[0m\u001b[37m\u001b[0m \u001b[1m0s\u001b[0m 306ms/step\n",
      "Prediction: [[1.5041136e-05]]\n"
     ]
    }
   ],
   "source": [
    "# prompt: evaluate the model and test it\n",
    "\n",
    "# Evaluate the model on the test set\n",
    "test_loss, test_acc = model.evaluate(padded_sequences, df['label'])\n",
    "print('Test Accuracy:', test_acc)\n",
    "\n",
    "# Test the model on a new sentence\n",
    "new_sentence = \"I love this movie!\"\n",
    "new_sequence = tokenizer.texts_to_sequences([new_sentence])\n",
    "padded_new_sequence = pad_sequences(new_sequence, maxlen=maxlen)\n",
    "prediction = model.predict(padded_new_sequence)\n",
    "print('Prediction:', prediction)"
   ]
  },
  {
   "cell_type": "code",
   "execution_count": 11,
   "id": "191b8d07-b9e7-451b-9ff1-8b705c1e6d28",
   "metadata": {},
   "outputs": [
    {
     "name": "stdout",
     "output_type": "stream",
     "text": [
      "\u001b[1m1/1\u001b[0m \u001b[32m━━━━━━━━━━━━━━━━━━━━\u001b[0m\u001b[37m\u001b[0m \u001b[1m0s\u001b[0m 24ms/step\n",
      "Binary Prediction: 0\n",
      "Prediction: [[5.4570563e-07]]\n"
     ]
    }
   ],
   "source": [
    "# Test the model on a new sentence\n",
    "new_sentence = \"user user mais nao tinha falado ontem que n o ia ser patrocinado nada que pudesse violar a moralidade da fam lia brasileira\"\n",
    "new_sequence = tokenizer.texts_to_sequences([new_sentence])\n",
    "padded_new_sequence = pad_sequences(new_sequence, maxlen=maxlen)\n",
    "prediction = model.predict(padded_new_sequence)\n",
    "# Convert the probability prediction to binary label\n",
    "binary_prediction = 1 if prediction >= 0.5 else 0\n",
    "\n",
    "# Print the binary prediction\n",
    "print('Binary Prediction:', binary_prediction)\n",
    "print('Prediction:', prediction)"
   ]
  },
  {
   "cell_type": "code",
   "execution_count": 12,
   "id": "30ae063d-5360-4458-a334-9acc7ca4f99b",
   "metadata": {},
   "outputs": [
    {
     "data": {
      "text/html": [
       "<div>\n",
       "<style scoped>\n",
       "    .dataframe tbody tr th:only-of-type {\n",
       "        vertical-align: middle;\n",
       "    }\n",
       "\n",
       "    .dataframe tbody tr th {\n",
       "        vertical-align: top;\n",
       "    }\n",
       "\n",
       "    .dataframe thead th {\n",
       "        text-align: right;\n",
       "    }\n",
       "</style>\n",
       "<table border=\"1\" class=\"dataframe\">\n",
       "  <thead>\n",
       "    <tr style=\"text-align: right;\">\n",
       "      <th></th>\n",
       "      <th>id</th>\n",
       "      <th>text</th>\n",
       "    </tr>\n",
       "  </thead>\n",
       "  <tbody>\n",
       "    <tr>\n",
       "      <th>0</th>\n",
       "      <td>0</td>\n",
       "      <td>@user nossa mano te odeio na moral kkkkkkkkkkk...</td>\n",
       "    </tr>\n",
       "    <tr>\n",
       "      <th>1</th>\n",
       "      <td>1</td>\n",
       "      <td>@user @user a edição ficou muito boa! kkkkkkkk...</td>\n",
       "    </tr>\n",
       "    <tr>\n",
       "      <th>2</th>\n",
       "      <td>2</td>\n",
       "      <td>@user largada vá, visto que a vaca anda à solta 😂</td>\n",
       "    </tr>\n",
       "    <tr>\n",
       "      <th>3</th>\n",
       "      <td>3</td>\n",
       "      <td>poxa, eu queria ganhar um boné. alguém me da u...</td>\n",
       "    </tr>\n",
       "    <tr>\n",
       "      <th>4</th>\n",
       "      <td>4</td>\n",
       "      <td>@user amiga, tudo bem, não precisa se desculpa...</td>\n",
       "    </tr>\n",
       "  </tbody>\n",
       "</table>\n",
       "</div>"
      ],
      "text/plain": [
       "   id                                               text\n",
       "0   0  @user nossa mano te odeio na moral kkkkkkkkkkk...\n",
       "1   1  @user @user a edição ficou muito boa! kkkkkkkk...\n",
       "2   2  @user largada vá, visto que a vaca anda à solta 😂\n",
       "3   3  poxa, eu queria ganhar um boné. alguém me da u...\n",
       "4   4  @user amiga, tudo bem, não precisa se desculpa..."
      ]
     },
     "execution_count": 12,
     "metadata": {},
     "output_type": "execute_result"
    }
   ],
   "source": [
    "test_df = pd.read_csv(r\"C:\\Users\\Legend\\Downloads\\test.csv\")\n",
    "test_df.head()"
   ]
  },
  {
   "cell_type": "code",
   "execution_count": 13,
   "id": "7542cc36-45a8-40dc-b721-7301b511b644",
   "metadata": {},
   "outputs": [
    {
     "name": "stdout",
     "output_type": "stream",
     "text": [
      "\u001b[1m1/1\u001b[0m \u001b[32m━━━━━━━━━━━━━━━━━━━━\u001b[0m\u001b[37m\u001b[0m \u001b[1m0s\u001b[0m 20ms/step\n",
      "\u001b[1m1/1\u001b[0m \u001b[32m━━━━━━━━━━━━━━━━━━━━\u001b[0m\u001b[37m\u001b[0m \u001b[1m0s\u001b[0m 21ms/step\n",
      "Number of predictions: 4200\n",
      "   id                                               text  label\n",
      "0   0  @user nossa mano te odeio na moral kkkkkkkkkkk...    0.0\n",
      "1   1  @user @user a edição ficou muito boa! kkkkkkkk...    0.0\n",
      "2   2  @user largada vá, visto que a vaca anda à solta 😂    1.0\n",
      "3   3  poxa, eu queria ganhar um boné. alguém me da u...    0.0\n",
      "4   4  @user amiga, tudo bem, não precisa se desculpa...    1.0\n"
     ]
    }
   ],
   "source": [
    "# Reset the counter\n",
    "counter = 0\n",
    "\n",
    "# Create a new column in the test_df to store the predictions\n",
    "test_df['label'] = np.nan\n",
    "\n",
    "# Iterate over the test_df and predict each sentence\n",
    "for index, row in test_df.iterrows():\n",
    "    # Tokenize the sentence\n",
    "    new_sequence = tokenizer.texts_to_sequences([row['text']])\n",
    "    # Pad the sequence to the same length\n",
    "    padded_new_sequence = pad_sequences(new_sequence, maxlen=maxlen)\n",
    "    # Predict the sentiment\n",
    "    prediction = model.predict(padded_new_sequence)\n",
    "    # Convert the probability prediction to binary label\n",
    "    binary_prediction = 1 if prediction >= 0.5 else 0\n",
    "    # Store the prediction in the 'label' column\n",
    "    test_df.at[index, 'label'] = binary_prediction\n",
    "    counter += 1\n",
    "    \n",
    "    # Print the number of predictions made if counter is divisible by 100\n",
    "    if counter % 100 == 0:\n",
    "        print('Number of predictions:', counter)\n",
    "\n",
    "# Print the updated test_df\n",
    "print(test_df.head());"
   ]
  },
  {
   "cell_type": "code",
   "execution_count": 18,
   "id": "000768d5-76b3-4c3f-a518-2e21cf6b0139",
   "metadata": {},
   "outputs": [
    {
     "data": {
      "text/html": [
       "<div>\n",
       "<style scoped>\n",
       "    .dataframe tbody tr th:only-of-type {\n",
       "        vertical-align: middle;\n",
       "    }\n",
       "\n",
       "    .dataframe tbody tr th {\n",
       "        vertical-align: top;\n",
       "    }\n",
       "\n",
       "    .dataframe thead th {\n",
       "        text-align: right;\n",
       "    }\n",
       "</style>\n",
       "<table border=\"1\" class=\"dataframe\">\n",
       "  <thead>\n",
       "    <tr style=\"text-align: right;\">\n",
       "      <th></th>\n",
       "      <th>id</th>\n",
       "      <th>label</th>\n",
       "    </tr>\n",
       "  </thead>\n",
       "  <tbody>\n",
       "    <tr>\n",
       "      <th>0</th>\n",
       "      <td>0</td>\n",
       "      <td>0</td>\n",
       "    </tr>\n",
       "    <tr>\n",
       "      <th>1</th>\n",
       "      <td>1</td>\n",
       "      <td>0</td>\n",
       "    </tr>\n",
       "    <tr>\n",
       "      <th>2</th>\n",
       "      <td>2</td>\n",
       "      <td>1</td>\n",
       "    </tr>\n",
       "    <tr>\n",
       "      <th>3</th>\n",
       "      <td>3</td>\n",
       "      <td>0</td>\n",
       "    </tr>\n",
       "    <tr>\n",
       "      <th>4</th>\n",
       "      <td>4</td>\n",
       "      <td>1</td>\n",
       "    </tr>\n",
       "  </tbody>\n",
       "</table>\n",
       "</div>"
      ],
      "text/plain": [
       "   id  label\n",
       "0   0      0\n",
       "1   1      0\n",
       "2   2      1\n",
       "3   3      0\n",
       "4   4      1"
      ]
     },
     "execution_count": 18,
     "metadata": {},
     "output_type": "execute_result"
    }
   ],
   "source": [
    "test_df.head()"
   ]
  },

  {
   "cell_type": "code",
   "execution_count": 20,
   "id": "2f2b3320",
   "metadata": {},
   "outputs": [
    {
     "data": {
      "text/html": [
       "<div>\n",
       "<style scoped>\n",
       "    .dataframe tbody tr th:only-of-type {\n",
       "        vertical-align: middle;\n",
       "    }\n",
       "\n",
       "    .dataframe tbody tr th {\n",
       "        vertical-align: top;\n",
       "    }\n",
       "\n",
       "    .dataframe thead th {\n",
       "        text-align: right;\n",
       "    }\n",
       "</style>\n",
       "<table border=\"1\" class=\"dataframe\">\n",
       "  <thead>\n",
       "    <tr style=\"text-align: right;\">\n",
       "      <th></th>\n",
       "      <th>id</th>\n",
       "      <th>label</th>\n",
       "    </tr>\n",
       "  </thead>\n",
       "  <tbody>\n",
       "    <tr>\n",
       "      <th>0</th>\n",
       "      <td>0</td>\n",
       "      <td>0</td>\n",
       "    </tr>\n",
       "    <tr>\n",
       "      <th>1</th>\n",
       "      <td>1</td>\n",
       "      <td>0</td>\n",
       "    </tr>\n",
       "    <tr>\n",
       "      <th>2</th>\n",
       "      <td>2</td>\n",
       "      <td>1</td>\n",
       "    </tr>\n",
       "    <tr>\n",
       "      <th>3</th>\n",
       "      <td>3</td>\n",
       "      <td>0</td>\n",
       "    </tr>\n",
       "    <tr>\n",
       "      <th>4</th>\n",
       "      <td>4</td>\n",
       "      <td>1</td>\n",
       "    </tr>\n",
       "  </tbody>\n",
       "</table>\n",
       "</div>"
      ],
      "text/plain": [
       "   id  label\n",
       "0   0      0\n",
       "1   1      0\n",
       "2   2      1\n",
       "3   3      0\n",
       "4   4      1"
      ]
     },
     "execution_count": 20,
     "metadata": {},
     "output_type": "execute_result"
    }
   ],
   "source": [
    "test_df.head()"
   ]
  },
  {
   "cell_type": "code",
   "execution_count": 21,
   "id": "19fd19ce",
   "metadata": {},
   "outputs": [],
   "source": [
    "test_df.to_csv(r\"C:\\Users\\Legend\\Downloads\\submission_test.csv\", index=False)"
   ]
  },
  {
   "cell_type": "code",
   "execution_count": 22,
   "id": "9dfa4d36",
   "metadata": {},
   "outputs": [
    {
     "data": {
      "text/plain": [
       "(4200, 2)"
      ]
     },
     "execution_count": 22,
     "metadata": {},
     "output_type": "execute_result"
    }
   ],
   "source": [
    "test_df.shape"
   ]
  },
  {
   "cell_type": "code",
   "execution_count": null,
   "id": "7520c7f0",
   "metadata": {},
   "outputs": [],
   "source": []
  }
 ],
 "metadata": {
  "kernelspec": {
   "display_name": "Python 3 (ipykernel)",
   "language": "python",
   "name": "python3"
  },
  "language_info": {
   "codemirror_mode": {
    "name": "ipython",
    "version": 3
   },
   "file_extension": ".py",
   "mimetype": "text/x-python",
   "name": "python",
   "nbconvert_exporter": "python",
   "pygments_lexer": "ipython3",
   "version": "3.11.7"
  }
 },
 "nbformat": 4,
 "nbformat_minor": 5
}
